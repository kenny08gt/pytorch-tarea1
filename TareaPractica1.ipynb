{
 "cells": [
  {
   "cell_type": "code",
   "execution_count": 1,
   "metadata": {},
   "outputs": [],
   "source": [
    "import tensorflow as tf\n",
    "import pandas as pd\n",
    "import numpy as np\n",
    "import matplotlib.pyplot as plt\n",
    "\n",
    "data = np.load('proyecto_training_data.npy')\n",
    "train_data_length = (int)(data.shape[0] * 0.8)\n",
    "train_data = data[0:train_data_length,:]\n",
    "test_data = data[train_data_length:,:]\n",
    "\n",
    "sale_price_train_d = (train_data[:,0]).astype(np.float32)\n",
    "overall_quality_train_d = (train_data[:,1]).astype(np.float32)\n",
    "\n",
    "sale_price_test_d = test_data[:,0]\n",
    "overall_quality_test_d = test_data[:,1]\n",
    "\n",
    "graph = tf.Graph()\n",
    "with graph.as_default():\n",
    "    x = tf.constant(overall_quality_train_d)\n",
    "    y = tf.constant(sale_price_train_d)\n",
    "    \n",
    "    w = tf.Variable()\n",
    "    b = tf.Variable()\n",
    "    y_pred = tf.matmul(x, w) + b\n",
    "    loss = tf.reduce_mean(tf.nn.softmax_cross_entropy_with_logits(y_pred, y))\n",
    "    \n",
    "    optimizer - tf.train.GradientDescentOptimizar(0.5).minimize(loss)\n",
    "    \n",
    "    \n"
   ]
  },
  {
   "cell_type": "code",
   "execution_count": null,
   "metadata": {},
   "outputs": [],
   "source": []
  }
 ],
 "metadata": {
  "kernelspec": {
   "display_name": "Python 3",
   "language": "python",
   "name": "python3"
  },
  "language_info": {
   "codemirror_mode": {
    "name": "ipython",
    "version": 3
   },
   "file_extension": ".py",
   "mimetype": "text/x-python",
   "name": "python",
   "nbconvert_exporter": "python",
   "pygments_lexer": "ipython3",
   "version": "3.7.1"
  }
 },
 "nbformat": 4,
 "nbformat_minor": 2
}
